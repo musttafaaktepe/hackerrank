{
 "cells": [
  {
   "cell_type": "markdown",
   "metadata": {},
   "source": [
    "#### https://www.hackerrank.com/challenges/python-lists/problem?isFullScreen=true"
   ]
  },
  {
   "cell_type": "code",
   "execution_count": 3,
   "metadata": {},
   "outputs": [
    {
     "name": "stdout",
     "output_type": "stream",
     "text": [
      "\n",
      "\n",
      "[1, 3, 2]\n"
     ]
    }
   ],
   "source": [
    "N= int(input('How many comands will you enter: '))\n",
    "\n",
    "list_=[]\n",
    "commands=[]\n",
    "\n",
    "while N > 0:\n",
    "    commands.append(input(\"\"))\n",
    "    N -=1\n",
    "print(\"\\n\")\n",
    "for i in commands:\n",
    "    j = i.split()\n",
    "    if j [0].lower() == \"insert\":\n",
    "        list_.insert(int(j[1]), int(j[2]))\n",
    "    elif j[0].lower() == \"print\":\n",
    "        print(list_)\n",
    "    elif j[0].lower() == \"remove\":\n",
    "        list_.remove(int(j[1]))\n",
    "    elif j[0].lower() == \"append\":\n",
    "        list_.append(int(j[1]))\n",
    "    elif j[0].lower() == \"sort\":\n",
    "        list_.sort()\n",
    "    elif j[0].lower() == \"pop\":\n",
    "        list_.pop()\n",
    "    elif j[0].lower() == \"reverse\":\n",
    "        list_= list_[::-1]\n",
    "    else:\n",
    "        print(f\"You entered the {j[0]} command incorrectly ... \")"
   ]
  }
 ],
 "metadata": {
  "kernelspec": {
   "display_name": "Python 3.9.7",
   "language": "python",
   "name": "python3"
  },
  "language_info": {
   "codemirror_mode": {
    "name": "ipython",
    "version": 3
   },
   "file_extension": ".py",
   "mimetype": "text/x-python",
   "name": "python",
   "nbconvert_exporter": "python",
   "pygments_lexer": "ipython3",
   "version": "3.9.7"
  },
  "orig_nbformat": 4,
  "vscode": {
   "interpreter": {
    "hash": "ad2bdc8ecc057115af97d19610ffacc2b4e99fae6737bb82f5d7fb13d2f2c186"
   }
  }
 },
 "nbformat": 4,
 "nbformat_minor": 2
}
